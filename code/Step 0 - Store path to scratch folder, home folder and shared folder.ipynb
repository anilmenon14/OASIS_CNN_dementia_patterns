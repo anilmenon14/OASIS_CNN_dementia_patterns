{
 "cells": [
  {
   "cell_type": "markdown",
   "id": "671aa00b",
   "metadata": {},
   "source": [
    "In this project it was required to define different paths in the filesystem due to storage restrictions on `/home` path. \n",
    "- `/home` was used to store the code as well as few other files such as static files.\n",
    "- `/scratch` was used to be able to store files temporarily that could be generated on demand.\n",
    "- Additionally a `shared_data` space was available in scratch for members on the project to collaborate in, apart from their defined allocated home and scratch personal spaces.\n",
    "\n",
    "**Note:** The below code works well on Linux machines. For users running Jupyter on Windows, the path definitions will need to be altered"
   ]
  },
  {
   "cell_type": "code",
   "execution_count": 1,
   "id": "e9089b32",
   "metadata": {},
   "outputs": [],
   "source": [
    "import pickle"
   ]
  },
  {
   "cell_type": "code",
   "execution_count": 2,
   "id": "c1d6a1da",
   "metadata": {},
   "outputs": [],
   "source": [
    "# Define base path where files will be stored\n",
    "baseScratchPath = '/scratch/siads696s012w23_class_root/siads696s012w23_class/anilcm'\n",
    "baseHomePath = '/home/anilcm'\n",
    "\n",
    "# Define path to shared space in /scratch where the serialized files will reside\n",
    "baseSharedPath = '/scratch/siads696s012w23_class_root/siads696s012w23_class/shared_data/team15/data'\n",
    "\n",
    "\n",
    "pickledHomeScratchShared = (baseHomePath,baseScratchPath,baseSharedPath)"
   ]
  },
  {
   "cell_type": "markdown",
   "id": "f32c2080",
   "metadata": {},
   "source": [
    "The below code is used to store the paths as pickle file in the **same level as code files** and unpickle them later through tuple unpacking."
   ]
  },
  {
   "cell_type": "code",
   "execution_count": 4,
   "id": "947b9ae2",
   "metadata": {},
   "outputs": [],
   "source": [
    "with open(\"pickledHomeScratchShared.pickle\", \"wb\") as f:\n",
    "    pickle.dump(pickledHomeScratchShared, f)"
   ]
  }
 ],
 "metadata": {
  "kernelspec": {
   "display_name": "Python 3 (ipykernel)",
   "language": "python",
   "name": "python3"
  },
  "language_info": {
   "codemirror_mode": {
    "name": "ipython",
    "version": 3
   },
   "file_extension": ".py",
   "mimetype": "text/x-python",
   "name": "python",
   "nbconvert_exporter": "python",
   "pygments_lexer": "ipython3",
   "version": "3.9.7"
  }
 },
 "nbformat": 4,
 "nbformat_minor": 5
}
